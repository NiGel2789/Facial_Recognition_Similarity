{
 "cells": [
  {
   "cell_type": "code",
   "execution_count": 2,
   "metadata": {},
   "outputs": [],
   "source": [
    "from sklearn.datasets import fetch_olivetti_faces\n",
    "from skimage.util.shape import view_as_windows\n",
    "from skimage.feature import local_binary_pattern\n",
    "from skimage.feature import hog\n",
    "import numpy as np\n",
    "import pandas as pd\n",
    "import cv2\n",
    "import matplotlib.pyplot as plt\n",
    "import matplotlib.image as mpimg\n",
    "\n",
    "%matplotlib inline \n",
    "from matplotlib import pyplot as plt\n",
    "\n",
    "\n",
    "data = fetch_olivetti_faces()\n",
    "radius = 3\n",
    "n_points = 8*radius\n",
    "images = data.images\n",
    "window_shape = (8, 8)\n",
    "\n",
    "fd = np.empty((0, 3), float)\n",
    "fd2 = np.empty((0, 3), float)\n",
    "yes = np.array([[10.1212,12.1212,14], [11.1213,13.1212,15]])\n",
    "fd3 = np.array([[10.3212,12.3212,14.1], [11.3213,13.3212,15.1]])\n",
    "fd = np.concatenate((fd, yes), axis=0)\n",
    "fd2 = np.concatenate((fd2, fd3), axis=0)\n",
    "\n",
    "target = data.target"
   ]
  },
  {
   "cell_type": "code",
   "execution_count": 3,
   "metadata": {},
   "outputs": [],
   "source": [
    "image = images[0]\n",
    "image2 = images[1]"
   ]
  },
  {
   "cell_type": "code",
   "execution_count": 4,
   "metadata": {},
   "outputs": [
    {
     "data": {
      "text/plain": [
       "<matplotlib.image.AxesImage at 0x1a33298d640>"
      ]
     },
     "execution_count": 4,
     "metadata": {},
     "output_type": "execute_result"
    },
    {
     "data": {
      "image/png": "[encoded data removed]",
      "text/plain": [
       "<Figure size 432x288 with 1 Axes>"
      ]
     },
     "metadata": {
      "needs_background": "light"
     },
     "output_type": "display_data"
    }
   ],
   "source": [
    "plt.figure()\n",
    "plt.imshow(image)"
   ]
  },
  {
   "cell_type": "code",
   "execution_count": 5,
   "metadata": {},
   "outputs": [
    {
     "data": {
      "text/plain": [
       "array([[10.1212, 12.1212, 14.    ],\n",
       "       [11.1213, 13.1212, 15.    ]])"
      ]
     },
     "execution_count": 5,
     "metadata": {},
     "output_type": "execute_result"
    }
   ],
   "source": [
    "fd"
   ]
  },
  {
   "cell_type": "code",
   "execution_count": 6,
   "metadata": {},
   "outputs": [],
   "source": [
    "diff = fd2 - fd"
   ]
  },
  {
   "cell_type": "code",
   "execution_count": 7,
   "metadata": {},
   "outputs": [
    {
     "name": "stdout",
     "output_type": "stream",
     "text": [
      "[[0.2 0.2 0.1]\n",
      " [0.2 0.2 0.1]]\n"
     ]
    }
   ],
   "source": [
    "print(diff)"
   ]
  },
  {
   "cell_type": "code",
   "execution_count": 8,
   "metadata": {},
   "outputs": [
    {
     "name": "stdout",
     "output_type": "stream",
     "text": [
      "[[0.04 0.04 0.01]\n",
      " [0.04 0.04 0.01]]\n"
     ]
    }
   ],
   "source": [
    "square = np.square(diff)\n",
    "print(square)\n",
    "summed = np.sum(square)"
   ]
  },
  {
   "cell_type": "code",
   "execution_count": 9,
   "metadata": {},
   "outputs": [
    {
     "data": {
      "text/plain": [
       "0.1799999999999994"
      ]
     },
     "execution_count": 9,
     "metadata": {},
     "output_type": "execute_result"
    }
   ],
   "source": [
    "summed"
   ]
  },
  {
   "cell_type": "code",
   "execution_count": 10,
   "metadata": {},
   "outputs": [
    {
     "name": "stdout",
     "output_type": "stream",
     "text": [
      "('image1.png', 0.1799999999999994)\n",
      "('image2.png', 19.45)\n",
      "0.1799999999999994\n"
     ]
    }
   ],
   "source": [
    "pair = (\"image1.png\", summed)\n",
    "pair2 = (\"image2.png\", 19.45)\n",
    "print(pair)\n",
    "print(pair2)\n",
    "pairs = []\n",
    "pairs.append(pair)\n",
    "pairs.append(pair2)\n",
    "print(pairs[0][1])"
   ]
  },
  {
   "cell_type": "code",
   "execution_count": 12,
   "metadata": {},
   "outputs": [
    {
     "name": "stdout",
     "output_type": "stream",
     "text": [
      "[('image1.png', 0.1799999999999994), ('image2.png', 19.45)]\n",
      "19.45\n"
     ]
    }
   ],
   "source": [
    "pairs.sort(key = lambda x: x[1])\n",
    "print(pairs)\n",
    "print(pairs[1][1])"
   ]
  },
  {
   "cell_type": "code",
   "execution_count": 49,
   "metadata": {},
   "outputs": [
    {
     "data": {
      "text/plain": [
       "0.5401601791381836"
      ]
     },
     "execution_count": 49,
     "metadata": {},
     "output_type": "execute_result"
    }
   ],
   "source": [
    "Split_Mean1 = Split_Sum1/64\n",
    "Split_Mean1"
   ]
  },
  {
   "cell_type": "code",
   "execution_count": 50,
   "metadata": {},
   "outputs": [
    {
     "data": {
      "text/plain": [
       "0.12918484810440528"
      ]
     },
     "execution_count": 50,
     "metadata": {},
     "output_type": "execute_result"
    }
   ],
   "source": [
    "SplitSD = np.square(np.subtract(Split[0, 0], Split_Mean1))\n",
    "SplitSD = np.sqrt(np.sum(SplitSD)/64)\n",
    "SplitSD"
   ]
  },
  {
   "cell_type": "code",
   "execution_count": 51,
   "metadata": {},
   "outputs": [
    {
     "data": {
      "text/plain": [
       "0.12637966552761062"
      ]
     },
     "execution_count": 51,
     "metadata": {},
     "output_type": "execute_result"
    }
   ],
   "source": [
    "SplitSk = np.power(np.subtract(Split[0, 0], Split_Mean1), 3)\n",
    "SplitSk = np.cbrt(np.sum(SplitSD)/64)\n",
    "SplitSk"
   ]
  },
  {
   "cell_type": "code",
   "execution_count": null,
   "metadata": {},
   "outputs": [],
   "source": []
  },
  {
   "cell_type": "code",
   "execution_count": null,
   "metadata": {},
   "outputs": [],
   "source": []
  },
  {
   "cell_type": "code",
   "execution_count": null,
   "metadata": {},
   "outputs": [],
   "source": []
  }
 ],
 "metadata": {
  "kernelspec": {
   "display_name": "Python 3",
   "language": "python",
   "name": "python3"
  },
  "language_info": {
   "codemirror_mode": {
    "name": "ipython",
    "version": 3
   },
   "file_extension": ".py",
   "mimetype": "text/x-python",
   "name": "python",
   "nbconvert_exporter": "python",
   "pygments_lexer": "ipython3",
   "version": "3.8.5"
  }
 },
 "nbformat": 4,
 "nbformat_minor": 4
}
